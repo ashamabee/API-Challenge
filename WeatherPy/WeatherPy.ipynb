{
 "cells": [
  {
   "cell_type": "markdown",
   "metadata": {},
   "source": [
    "# WeatherPy\n",
    "----\n",
    "\n",
    "#### Note\n",
    "* Instructions have been included for each segment. You do not have to follow them exactly, but they are included to help you think through the steps."
   ]
  },
  {
   "cell_type": "code",
   "execution_count": 1,
   "metadata": {
    "scrolled": true
   },
   "outputs": [],
   "source": [
    "# Dependencies and Setup\n",
    "import matplotlib.pyplot as plt\n",
    "import pandas as pd\n",
    "import numpy as np\n",
    "import requests\n",
    "import time\n",
    "import csv\n",
    "from scipy.stats import linregress\n",
    "\n",
    "# Import API key\n",
    "from api_keys import weather_api_key\n",
    "\n",
    "# Incorporated citipy to determine city based on latitude and longitude\n",
    "from citipy import citipy\n",
    "\n",
    "# Output File (CSV)\n",
    "output_data_file = \"output_data/cities.csv\"\n",
    "\n",
    "# Range of latitudes and longitudes\n",
    "lat_range = (-90, 90)\n",
    "lng_range = (-180, 180)"
   ]
  },
  {
   "cell_type": "markdown",
   "metadata": {},
   "source": [
    "## Generate Cities List"
   ]
  },
  {
   "cell_type": "code",
   "execution_count": 2,
   "metadata": {},
   "outputs": [
    {
     "data": {
      "text/plain": [
       "609"
      ]
     },
     "execution_count": 2,
     "metadata": {},
     "output_type": "execute_result"
    }
   ],
   "source": [
    "# List for holding lat_lngs and cities\n",
    "lat_lngs = []\n",
    "cities = []\n",
    "\n",
    "# Create a set of random lat and lng combinations\n",
    "lats = np.random.uniform(lat_range[0], lat_range[1], size=1500)\n",
    "lngs = np.random.uniform(lng_range[0], lng_range[1], size=1500)\n",
    "lat_lngs = zip(lats, lngs)\n",
    "\n",
    "# Identify nearest city for each lat, lng combination\n",
    "for lat_lng in lat_lngs:\n",
    "    city = citipy.nearest_city(lat_lng[0], lat_lng[1]).city_name\n",
    "    \n",
    "    # If the city is unique, then add it to a our cities list\n",
    "    if city not in cities:\n",
    "        cities.append(city)\n",
    "\n",
    "# Print the city count to confirm sufficient count\n",
    "len(cities)"
   ]
  },
  {
   "cell_type": "markdown",
   "metadata": {},
   "source": [
    "### Perform API Calls\n",
    "* Perform a weather check on each city using a series of successive API calls.\n",
    "* Include a print log of each city as it'sbeing processed (with the city number and city name).\n"
   ]
  },
  {
   "cell_type": "code",
   "execution_count": 3,
   "metadata": {},
   "outputs": [
    {
     "name": "stdout",
     "output_type": "stream",
     "text": [
      "Beginning Data Retrieval\n",
      "-----------------------------\n",
      "Processing Record 1 of Set 1 | villa maria\n",
      "Processing Record 2 of Set 1 | dourbali\n",
      "Processing Record 3 of Set 1 | katsuura\n",
      "Processing Record 4 of Set 1 | promissao\n",
      "Processing Record 5 of Set 1 | bredasdorp\n",
      "Processing Record 6 of Set 1 | benguela\n",
      "Processing Record 7 of Set 1 | puerto ayora\n",
      "Processing Record 8 of Set 1 | ca mau\n",
      "Processing Record 9 of Set 1 | busselton\n",
      "Processing Record 10 of Set 1 | cockburn town\n",
      "Processing Record 11 of Set 1 | upernavik\n",
      "Processing Record 12 of Set 1 | thompson\n",
      "Processing Record 13 of Set 1 | niquero\n",
      "Processing Record 14 of Set 1 | albany\n",
      "Processing Record 15 of Set 1 | rumonge\n",
      "Processing Record 16 of Set 1 | cape town\n",
      "Processing Record 17 of Set 1 | port lincoln\n",
      "Processing Record 18 of Set 1 | punta arenas\n",
      "Processing Record 19 of Set 1 | kodiak\n",
      "Processing Record 20 of Set 1 | severo-kurilsk\n",
      "Processing Record 21 of Set 1 | rikitea\n",
      "Processing Record 22 of Set 1 | ushuaia\n",
      "Processing Record 23 of Set 1 | chernihiv\n",
      "Processing Record 24 of Set 1 | bluff\n",
      "Processing Record 25 of Set 1 | almaznyy\n",
      "Processing Record 26 of Set 1 | westport\n",
      "Processing Record 27 of Set 1 | ribeira grande\n",
      "Processing Record 28 of Set 1 | karaul\n",
      "City not found. Skipping...\n",
      "Processing Record 29 of Set 1 | sentyabrskiy\n",
      "City not found. Skipping...\n",
      "Processing Record 30 of Set 1 | atuona\n",
      "Processing Record 31 of Set 1 | vaini\n",
      "Processing Record 32 of Set 1 | sibolga\n",
      "Processing Record 33 of Set 1 | amderma\n",
      "City not found. Skipping...\n",
      "Processing Record 34 of Set 1 | jumla\n",
      "Processing Record 35 of Set 1 | narsaq\n",
      "Processing Record 36 of Set 1 | cherskiy\n",
      "Processing Record 37 of Set 1 | hobart\n",
      "Processing Record 38 of Set 1 | bafq\n",
      "Processing Record 39 of Set 1 | pangnirtung\n",
      "Processing Record 40 of Set 1 | kapaa\n",
      "Processing Record 41 of Set 1 | bubaque\n",
      "Processing Record 42 of Set 1 | toora-khem\n",
      "Processing Record 43 of Set 1 | illoqqortoormiut\n",
      "City not found. Skipping...\n",
      "Processing Record 44 of Set 1 | port hardy\n",
      "Processing Record 45 of Set 1 | hermanus\n",
      "Processing Record 46 of Set 1 | port alfred\n",
      "Processing Record 47 of Set 1 | loiza\n",
      "Processing Record 48 of Set 1 | dillon\n",
      "Processing Record 49 of Set 1 | jiaozuo\n",
      "Processing Record 50 of Set 1 | ayolas\n",
      "Processing Record 0 of Set 2 | arraial do cabo\n",
      "Processing Record 1 of Set 2 | avarua\n",
      "Processing Record 2 of Set 2 | shingu\n",
      "Processing Record 3 of Set 2 | naze\n",
      "Processing Record 4 of Set 2 | mulege\n",
      "Processing Record 5 of Set 2 | saskylakh\n",
      "Processing Record 6 of Set 2 | taolanaro\n",
      "City not found. Skipping...\n",
      "Processing Record 7 of Set 2 | kargasok\n",
      "Processing Record 8 of Set 2 | mugumu\n",
      "Processing Record 9 of Set 2 | barrow\n",
      "Processing Record 10 of Set 2 | alice springs\n",
      "Processing Record 11 of Set 2 | aklavik\n",
      "Processing Record 12 of Set 2 | balykshi\n",
      "City not found. Skipping...\n",
      "Processing Record 13 of Set 2 | hilo\n",
      "Processing Record 14 of Set 2 | yulara\n",
      "Processing Record 15 of Set 2 | karkaralinsk\n",
      "City not found. Skipping...\n",
      "Processing Record 16 of Set 2 | mataura\n",
      "Processing Record 17 of Set 2 | port macquarie\n",
      "Processing Record 18 of Set 2 | marsa matruh\n",
      "Processing Record 19 of Set 2 | amapa\n",
      "Processing Record 20 of Set 2 | kabompo\n",
      "Processing Record 21 of Set 2 | mehriz\n",
      "Processing Record 22 of Set 2 | lorengau\n",
      "Processing Record 23 of Set 2 | tuktoyaktuk\n",
      "Processing Record 24 of Set 2 | dikson\n",
      "Processing Record 25 of Set 2 | motala\n",
      "Processing Record 26 of Set 2 | bani\n",
      "Processing Record 27 of Set 2 | mareeba\n",
      "Processing Record 28 of Set 2 | kruisfontein\n",
      "Processing Record 29 of Set 2 | saint-jean-de-dieu\n",
      "City not found. Skipping...\n",
      "Processing Record 30 of Set 2 | puerto lempira\n",
      "Processing Record 31 of Set 2 | sahuaripa\n",
      "Processing Record 32 of Set 2 | yellowknife\n",
      "Processing Record 33 of Set 2 | petrykivka\n",
      "Processing Record 34 of Set 2 | nikolskoye\n",
      "Processing Record 35 of Set 2 | clyde river\n",
      "Processing Record 36 of Set 2 | wairoa\n",
      "Processing Record 37 of Set 2 | yerbogachen\n",
      "Processing Record 38 of Set 2 | ust-charyshskaya pristan\n",
      "Processing Record 39 of Set 2 | saint george\n",
      "Processing Record 40 of Set 2 | mys shmidta\n",
      "City not found. Skipping...\n",
      "Processing Record 41 of Set 2 | castro\n",
      "Processing Record 42 of Set 2 | coolum beach\n",
      "Processing Record 43 of Set 2 | vestmannaeyjar\n",
      "Processing Record 44 of Set 2 | grand river south east\n",
      "City not found. Skipping...\n",
      "Processing Record 45 of Set 2 | inhambane\n",
      "Processing Record 46 of Set 2 | mchinji\n",
      "Processing Record 47 of Set 2 | sabzevar\n",
      "Processing Record 48 of Set 2 | jamestown\n",
      "Processing Record 49 of Set 2 | maceio\n",
      "Processing Record 0 of Set 3 | bambous virieux\n",
      "Processing Record 1 of Set 3 | kijang\n",
      "Processing Record 2 of Set 3 | adolfo lopez mateos\n",
      "Processing Record 3 of Set 3 | arica\n",
      "Processing Record 4 of Set 3 | inderborskiy\n",
      "City not found. Skipping...\n",
      "Processing Record 5 of Set 3 | isangel\n",
      "Processing Record 6 of Set 3 | linhares\n",
      "Processing Record 7 of Set 3 | manzil tamim\n",
      "City not found. Skipping...\n",
      "Processing Record 8 of Set 3 | tasiilaq\n",
      "Processing Record 9 of Set 3 | los llanos de aridane\n",
      "Processing Record 10 of Set 3 | moranbah\n",
      "Processing Record 11 of Set 3 | butaritari\n",
      "Processing Record 12 of Set 3 | kamenka\n",
      "Processing Record 13 of Set 3 | new norfolk\n",
      "Processing Record 14 of Set 3 | rawson\n",
      "Processing Record 15 of Set 3 | qaanaaq\n",
      "Processing Record 16 of Set 3 | nabire\n",
      "Processing Record 17 of Set 3 | egvekinot\n",
      "Processing Record 18 of Set 3 | shetpe\n",
      "Processing Record 19 of Set 3 | east london\n",
      "Processing Record 20 of Set 3 | maputo\n",
      "Processing Record 21 of Set 3 | victoria\n",
      "Processing Record 22 of Set 3 | bethel\n",
      "Processing Record 23 of Set 3 | nirasaki\n",
      "Processing Record 24 of Set 3 | bardiyah\n",
      "Processing Record 25 of Set 3 | saldanha\n",
      "Processing Record 26 of Set 3 | broome\n",
      "Processing Record 27 of Set 3 | khatanga\n",
      "Processing Record 28 of Set 3 | america dourada\n",
      "Processing Record 29 of Set 3 | rabo de peixe\n",
      "Processing Record 30 of Set 3 | purpe\n",
      "Processing Record 31 of Set 3 | osypenko\n",
      "Processing Record 32 of Set 3 | namibe\n",
      "Processing Record 33 of Set 3 | prince albert\n",
      "Processing Record 34 of Set 3 | rundu\n",
      "Processing Record 35 of Set 3 | mar del plata\n",
      "Processing Record 36 of Set 3 | barentsburg\n",
      "City not found. Skipping...\n",
      "Processing Record 37 of Set 3 | ambilobe\n",
      "Processing Record 38 of Set 3 | san patricio\n",
      "Processing Record 39 of Set 3 | guerrero negro\n",
      "Processing Record 40 of Set 3 | faanui\n",
      "Processing Record 41 of Set 3 | nanortalik\n",
      "Processing Record 42 of Set 3 | atherton\n",
      "Processing Record 43 of Set 3 | kankaanpaa\n",
      "Processing Record 44 of Set 3 | louisbourg\n",
      "City not found. Skipping...\n",
      "Processing Record 45 of Set 3 | chuy\n",
      "Processing Record 46 of Set 3 | sola\n",
      "Processing Record 47 of Set 3 | vardo\n",
      "Processing Record 48 of Set 3 | hirtshals\n",
      "Processing Record 49 of Set 3 | pochinok\n",
      "Processing Record 0 of Set 4 | ahipara\n",
      "Processing Record 1 of Set 4 | saint-philippe\n",
      "Processing Record 2 of Set 4 | saint-leu\n",
      "Processing Record 3 of Set 4 | ponta do sol\n",
      "Processing Record 4 of Set 4 | cabo san lucas\n",
      "Processing Record 5 of Set 4 | pachino\n",
      "Processing Record 6 of Set 4 | nieuw amsterdam\n",
      "Processing Record 7 of Set 4 | paso de los toros\n",
      "Processing Record 8 of Set 4 | kattivakkam\n",
      "Processing Record 9 of Set 4 | airai\n",
      "Processing Record 10 of Set 4 | tanem\n",
      "Processing Record 11 of Set 4 | shache\n",
      "Processing Record 12 of Set 4 | karratha\n",
      "Processing Record 13 of Set 4 | mkushi\n",
      "Processing Record 14 of Set 4 | codrington\n",
      "Processing Record 15 of Set 4 | wuning\n",
      "Processing Record 16 of Set 4 | plettenberg bay\n",
      "Processing Record 17 of Set 4 | koutsouras\n",
      "Processing Record 18 of Set 4 | zunyi\n",
      "Processing Record 19 of Set 4 | nizhneyansk\n",
      "City not found. Skipping...\n",
      "Processing Record 20 of Set 4 | nefteyugansk\n",
      "Processing Record 21 of Set 4 | florianopolis\n",
      "Processing Record 22 of Set 4 | mon\n",
      "Processing Record 23 of Set 4 | pyaozerskiy\n",
      "Processing Record 24 of Set 4 | upala\n",
      "Processing Record 25 of Set 4 | muroto\n",
      "Processing Record 26 of Set 4 | kloulklubed\n",
      "Processing Record 27 of Set 4 | wad madani\n",
      "Processing Record 28 of Set 4 | tabory\n",
      "Processing Record 29 of Set 4 | leirvik\n",
      "Processing Record 30 of Set 4 | sao filipe\n",
      "Processing Record 31 of Set 4 | zabolottya\n",
      "City not found. Skipping...\n",
      "Processing Record 32 of Set 4 | kamenskoye\n",
      "City not found. Skipping...\n",
      "Processing Record 33 of Set 4 | palmer\n"
     ]
    },
    {
     "name": "stdout",
     "output_type": "stream",
     "text": [
      "Processing Record 34 of Set 4 | chifeng\n",
      "Processing Record 35 of Set 4 | kathu\n",
      "Processing Record 36 of Set 4 | labuhan\n",
      "Processing Record 37 of Set 4 | vostok\n",
      "Processing Record 38 of Set 4 | magna\n",
      "Processing Record 39 of Set 4 | gornozavodsk\n",
      "Processing Record 40 of Set 4 | peniche\n",
      "Processing Record 41 of Set 4 | usak\n",
      "Processing Record 42 of Set 4 | pevek\n",
      "Processing Record 43 of Set 4 | tuburan\n",
      "Processing Record 44 of Set 4 | avera\n",
      "Processing Record 45 of Set 4 | klaksvik\n",
      "Processing Record 46 of Set 4 | te anau\n",
      "Processing Record 47 of Set 4 | chicama\n",
      "Processing Record 48 of Set 4 | carnarvon\n",
      "Processing Record 49 of Set 4 | nurota\n",
      "Processing Record 0 of Set 5 | bonavista\n",
      "Processing Record 1 of Set 5 | russell\n",
      "Processing Record 2 of Set 5 | flin flon\n",
      "Processing Record 3 of Set 5 | lagoa\n",
      "Processing Record 4 of Set 5 | khomeyn\n",
      "Processing Record 5 of Set 5 | karangasem\n",
      "Processing Record 6 of Set 5 | el alto\n",
      "Processing Record 7 of Set 5 | sultanpur\n",
      "Processing Record 8 of Set 5 | mega\n",
      "Processing Record 9 of Set 5 | yerofey pavlovich\n",
      "Processing Record 10 of Set 5 | iqaluit\n",
      "Processing Record 11 of Set 5 | comodoro rivadavia\n",
      "Processing Record 12 of Set 5 | bengkulu\n",
      "Processing Record 13 of Set 5 | tilichiki\n",
      "Processing Record 14 of Set 5 | berdigestyakh\n",
      "Processing Record 15 of Set 5 | pangody\n",
      "Processing Record 16 of Set 5 | iskateley\n",
      "Processing Record 17 of Set 5 | jabiru\n",
      "City not found. Skipping...\n",
      "Processing Record 18 of Set 5 | luanda\n",
      "Processing Record 19 of Set 5 | lamar\n",
      "Processing Record 20 of Set 5 | aksarka\n",
      "Processing Record 21 of Set 5 | mayumba\n",
      "Processing Record 22 of Set 5 | maghama\n",
      "City not found. Skipping...\n",
      "Processing Record 23 of Set 5 | aquiraz\n",
      "Processing Record 24 of Set 5 | bereznik\n",
      "Processing Record 25 of Set 5 | samusu\n",
      "City not found. Skipping...\n",
      "Processing Record 26 of Set 5 | paamiut\n",
      "Processing Record 27 of Set 5 | dolbeau\n",
      "City not found. Skipping...\n",
      "Processing Record 28 of Set 5 | hasaki\n",
      "Processing Record 29 of Set 5 | sisimiut\n",
      "Processing Record 30 of Set 5 | atar\n",
      "Processing Record 31 of Set 5 | pacific grove\n",
      "Processing Record 32 of Set 5 | wagar\n",
      "Processing Record 33 of Set 5 | sitka\n",
      "Processing Record 34 of Set 5 | half moon bay\n",
      "Processing Record 35 of Set 5 | srivardhan\n",
      "Processing Record 36 of Set 5 | fairbanks\n",
      "Processing Record 37 of Set 5 | vila\n",
      "Processing Record 38 of Set 5 | alotau\n",
      "City not found. Skipping...\n",
      "Processing Record 39 of Set 5 | saint-joseph\n",
      "Processing Record 40 of Set 5 | muros\n",
      "Processing Record 41 of Set 5 | cayenne\n",
      "Processing Record 42 of Set 5 | awjilah\n",
      "Processing Record 43 of Set 5 | olinda\n",
      "Processing Record 44 of Set 5 | tezu\n",
      "Processing Record 45 of Set 5 | kavieng\n",
      "Processing Record 46 of Set 5 | sayyan\n",
      "Processing Record 47 of Set 5 | tocopilla\n",
      "Processing Record 48 of Set 5 | tuatapere\n",
      "Processing Record 49 of Set 5 | carballo\n",
      "Processing Record 0 of Set 6 | hithadhoo\n",
      "Processing Record 1 of Set 6 | de panne\n",
      "Processing Record 2 of Set 6 | souillac\n",
      "Processing Record 3 of Set 6 | ndiekro\n",
      "City not found. Skipping...\n",
      "Processing Record 4 of Set 6 | boa vista\n",
      "Processing Record 5 of Set 6 | padang\n",
      "Processing Record 6 of Set 6 | aiquile\n",
      "Processing Record 7 of Set 6 | chokurdakh\n",
      "Processing Record 8 of Set 6 | bozoum\n",
      "Processing Record 9 of Set 6 | attawapiskat\n",
      "City not found. Skipping...\n",
      "Processing Record 10 of Set 6 | cacador\n",
      "Processing Record 11 of Set 6 | bathsheba\n",
      "Processing Record 12 of Set 6 | alta floresta\n",
      "Processing Record 13 of Set 6 | pervomayskiy\n",
      "Processing Record 14 of Set 6 | tumannyy\n",
      "City not found. Skipping...\n",
      "Processing Record 15 of Set 6 | derzhavinsk\n",
      "Processing Record 16 of Set 6 | luoyang\n",
      "Processing Record 17 of Set 6 | khandyga\n",
      "Processing Record 18 of Set 6 | srednekolymsk\n",
      "Processing Record 19 of Set 6 | abu dhabi\n",
      "Processing Record 20 of Set 6 | wainwright\n",
      "Processing Record 21 of Set 6 | kununurra\n",
      "Processing Record 22 of Set 6 | maumere\n",
      "Processing Record 23 of Set 6 | turtkul\n",
      "City not found. Skipping...\n",
      "Processing Record 24 of Set 6 | beringovskiy\n",
      "Processing Record 25 of Set 6 | cassilandia\n",
      "Processing Record 26 of Set 6 | asmar\n",
      "Processing Record 27 of Set 6 | kahului\n",
      "Processing Record 28 of Set 6 | nemuro\n",
      "Processing Record 29 of Set 6 | lodwar\n",
      "Processing Record 30 of Set 6 | lompoc\n",
      "Processing Record 31 of Set 6 | longyearbyen\n",
      "Processing Record 32 of Set 6 | kholm\n",
      "Processing Record 33 of Set 6 | chegdomyn\n",
      "Processing Record 34 of Set 6 | norman wells\n",
      "Processing Record 35 of Set 6 | ostrovnoy\n",
      "Processing Record 36 of Set 6 | lebu\n",
      "Processing Record 37 of Set 6 | bilma\n",
      "Processing Record 38 of Set 6 | hobyo\n",
      "Processing Record 39 of Set 6 | griffith\n",
      "Processing Record 40 of Set 6 | pochutla\n",
      "Processing Record 41 of Set 6 | port hedland\n",
      "Processing Record 42 of Set 6 | roma\n",
      "Processing Record 43 of Set 6 | leningradskiy\n",
      "Processing Record 44 of Set 6 | fonte boa\n",
      "Processing Record 45 of Set 6 | maimon\n",
      "City not found. Skipping...\n",
      "Processing Record 46 of Set 6 | cabra\n",
      "Processing Record 47 of Set 6 | moerai\n",
      "Processing Record 48 of Set 6 | micheweni\n",
      "Processing Record 49 of Set 6 | kodinsk\n",
      "Processing Record 0 of Set 7 | camacha\n",
      "Processing Record 1 of Set 7 | torbay\n",
      "Processing Record 2 of Set 7 | ashland\n",
      "Processing Record 3 of Set 7 | luebo\n",
      "Processing Record 4 of Set 7 | meulaboh\n",
      "Processing Record 5 of Set 7 | bargal\n",
      "City not found. Skipping...\n",
      "Processing Record 6 of Set 7 | ancud\n",
      "Processing Record 7 of Set 7 | santa rosa\n",
      "Processing Record 8 of Set 7 | carta\n",
      "Processing Record 9 of Set 7 | qadirpur ran\n",
      "Processing Record 10 of Set 7 | kaitangata\n",
      "Processing Record 11 of Set 7 | chernyshevskiy\n",
      "Processing Record 12 of Set 7 | katobu\n",
      "Processing Record 13 of Set 7 | jiayuguan\n",
      "Processing Record 14 of Set 7 | esperance\n",
      "Processing Record 15 of Set 7 | agirish\n",
      "Processing Record 16 of Set 7 | huarmey\n",
      "Processing Record 17 of Set 7 | pisco\n",
      "Processing Record 18 of Set 7 | teknaf\n",
      "Processing Record 19 of Set 7 | tahe\n",
      "Processing Record 20 of Set 7 | los andes\n",
      "Processing Record 21 of Set 7 | yuryevets\n",
      "Processing Record 22 of Set 7 | port elizabeth\n",
      "Processing Record 23 of Set 7 | santa eulalia del rio\n",
      "City not found. Skipping...\n",
      "Processing Record 24 of Set 7 | hualmay\n",
      "Processing Record 25 of Set 7 | mount isa\n",
      "Processing Record 26 of Set 7 | abalak\n",
      "Processing Record 27 of Set 7 | cidreira\n",
      "Processing Record 28 of Set 7 | halalo\n",
      "City not found. Skipping...\n",
      "Processing Record 29 of Set 7 | gorontalo\n",
      "Processing Record 30 of Set 7 | veselynove\n",
      "Processing Record 31 of Set 7 | virginia beach\n",
      "Processing Record 32 of Set 7 | mastic beach\n",
      "Processing Record 33 of Set 7 | raudeberg\n",
      "Processing Record 34 of Set 7 | bereda\n",
      "Processing Record 35 of Set 7 | jutai\n",
      "Processing Record 36 of Set 7 | kirovo-chepetsk\n",
      "Processing Record 37 of Set 7 | praia da vitoria\n",
      "Processing Record 38 of Set 7 | caravelas\n",
      "Processing Record 39 of Set 7 | morondava\n",
      "Processing Record 40 of Set 7 | mehamn\n",
      "Processing Record 41 of Set 7 | viligili\n",
      "City not found. Skipping...\n",
      "Processing Record 42 of Set 7 | fallon\n",
      "Processing Record 43 of Set 7 | sembakung\n",
      "Processing Record 44 of Set 7 | tiarei\n",
      "Processing Record 45 of Set 7 | ambulu\n",
      "Processing Record 46 of Set 7 | birin\n",
      "Processing Record 47 of Set 7 | umzimvubu\n",
      "City not found. Skipping...\n",
      "Processing Record 48 of Set 7 | tsihombe\n",
      "City not found. Skipping...\n",
      "Processing Record 49 of Set 7 | waipawa\n",
      "Processing Record 0 of Set 8 | vaitupu\n",
      "City not found. Skipping...\n",
      "Processing Record 1 of Set 8 | kandrian\n",
      "Processing Record 2 of Set 8 | paradwip\n",
      "City not found. Skipping...\n",
      "Processing Record 3 of Set 8 | emerald\n",
      "Processing Record 4 of Set 8 | taltal\n",
      "Processing Record 5 of Set 8 | kudahuvadhoo\n",
      "Processing Record 6 of Set 8 | kerki\n",
      "City not found. Skipping...\n",
      "Processing Record 7 of Set 8 | bulgan\n",
      "Processing Record 8 of Set 8 | yar-sale\n",
      "Processing Record 9 of Set 8 | hutchinson\n",
      "Processing Record 10 of Set 8 | tiksi\n",
      "Processing Record 11 of Set 8 | mfou\n",
      "Processing Record 12 of Set 8 | riviere-au-renard\n",
      "Processing Record 13 of Set 8 | tateyama\n",
      "Processing Record 14 of Set 8 | saint-pierre\n",
      "Processing Record 15 of Set 8 | saquena\n",
      "Processing Record 16 of Set 8 | puerto colombia\n",
      "Processing Record 17 of Set 8 | ngunguru\n",
      "Processing Record 18 of Set 8 | churhat\n",
      "Processing Record 19 of Set 8 | buluang\n",
      "Processing Record 20 of Set 8 | carutapera\n",
      "Processing Record 21 of Set 8 | kuusamo\n"
     ]
    },
    {
     "name": "stdout",
     "output_type": "stream",
     "text": [
      "Processing Record 22 of Set 8 | galiwinku\n",
      "City not found. Skipping...\n",
      "Processing Record 23 of Set 8 | tornio\n",
      "Processing Record 24 of Set 8 | krishnarajpet\n",
      "Processing Record 25 of Set 8 | mandalgovi\n",
      "Processing Record 26 of Set 8 | kangaatsiaq\n",
      "Processing Record 27 of Set 8 | general pico\n",
      "Processing Record 28 of Set 8 | georgetown\n",
      "Processing Record 29 of Set 8 | vila franca do campo\n",
      "Processing Record 30 of Set 8 | ayan\n",
      "Processing Record 31 of Set 8 | rio grande\n",
      "Processing Record 32 of Set 8 | kushima\n",
      "Processing Record 33 of Set 8 | mahe\n",
      "Processing Record 34 of Set 8 | dvinskoy\n",
      "Processing Record 35 of Set 8 | vanimo\n",
      "Processing Record 36 of Set 8 | muravlenko\n",
      "Processing Record 37 of Set 8 | solnechnyy\n",
      "Processing Record 38 of Set 8 | saint-francois\n",
      "Processing Record 39 of Set 8 | kingston upon hull\n",
      "Processing Record 40 of Set 8 | husavik\n",
      "Processing Record 41 of Set 8 | san\n",
      "Processing Record 42 of Set 8 | makakilo city\n",
      "Processing Record 43 of Set 8 | manavalakurichi\n",
      "Processing Record 44 of Set 8 | meyungs\n",
      "City not found. Skipping...\n",
      "Processing Record 45 of Set 8 | nishihara\n",
      "Processing Record 46 of Set 8 | alma\n",
      "Processing Record 47 of Set 8 | tulagi\n",
      "Processing Record 48 of Set 8 | rurrenabaque\n",
      "Processing Record 49 of Set 8 | omsukchan\n",
      "Processing Record 0 of Set 9 | warwick\n",
      "Processing Record 1 of Set 9 | saleaula\n",
      "City not found. Skipping...\n",
      "Processing Record 2 of Set 9 | khonsar\n",
      "City not found. Skipping...\n",
      "Processing Record 3 of Set 9 | safwah\n",
      "City not found. Skipping...\n",
      "Processing Record 4 of Set 9 | kibala\n",
      "Processing Record 5 of Set 9 | grindavik\n",
      "Processing Record 6 of Set 9 | zhangye\n",
      "Processing Record 7 of Set 9 | libertador general san martin\n",
      "Processing Record 8 of Set 9 | mangrol\n",
      "Processing Record 9 of Set 9 | oistins\n",
      "Processing Record 10 of Set 9 | palabuhanratu\n",
      "City not found. Skipping...\n",
      "Processing Record 11 of Set 9 | havre-saint-pierre\n",
      "Processing Record 12 of Set 9 | chistogorskiy\n",
      "Processing Record 13 of Set 9 | sambava\n",
      "Processing Record 14 of Set 9 | college\n",
      "Processing Record 15 of Set 9 | fort nelson\n",
      "Processing Record 16 of Set 9 | sunrise manor\n",
      "Processing Record 17 of Set 9 | constitucion\n",
      "Processing Record 18 of Set 9 | san nicolas\n",
      "Processing Record 19 of Set 9 | pimenta bueno\n",
      "Processing Record 20 of Set 9 | berlevag\n",
      "Processing Record 21 of Set 9 | zalaegerszeg\n",
      "Processing Record 22 of Set 9 | verkhoyansk\n",
      "Processing Record 23 of Set 9 | mayen\n",
      "Processing Record 24 of Set 9 | mahebourg\n",
      "Processing Record 25 of Set 9 | mitsamiouli\n",
      "Processing Record 26 of Set 9 | marzuq\n",
      "Processing Record 27 of Set 9 | dandong\n",
      "Processing Record 28 of Set 9 | maua\n",
      "Processing Record 29 of Set 9 | teahupoo\n",
      "Processing Record 30 of Set 9 | bom jesus\n",
      "Processing Record 31 of Set 9 | lavrentiya\n",
      "Processing Record 32 of Set 9 | sept-iles\n",
      "Processing Record 33 of Set 9 | quesnel\n",
      "Processing Record 34 of Set 9 | sokoni\n",
      "Processing Record 35 of Set 9 | uyuni\n",
      "Processing Record 36 of Set 9 | maloy\n",
      "Processing Record 37 of Set 9 | khingansk\n",
      "Processing Record 38 of Set 9 | pathein\n",
      "Processing Record 39 of Set 9 | miyako\n",
      "Processing Record 40 of Set 9 | tubruq\n",
      "City not found. Skipping...\n",
      "Processing Record 41 of Set 9 | ternate\n",
      "Processing Record 42 of Set 9 | damghan\n",
      "Processing Record 43 of Set 9 | northam\n",
      "Processing Record 44 of Set 9 | dukat\n",
      "Processing Record 45 of Set 9 | jiddah\n",
      "City not found. Skipping...\n",
      "Processing Record 46 of Set 9 | hobe sound\n",
      "Processing Record 47 of Set 9 | garoua\n",
      "Processing Record 48 of Set 9 | ilesha\n",
      "Processing Record 49 of Set 9 | kedougou\n",
      "Processing Record 0 of Set 10 | vila velha\n",
      "Processing Record 1 of Set 10 | hun\n",
      "Processing Record 2 of Set 10 | choucheng\n",
      "City not found. Skipping...\n",
      "Processing Record 3 of Set 10 | burica\n",
      "City not found. Skipping...\n",
      "Processing Record 4 of Set 10 | vanavara\n",
      "Processing Record 5 of Set 10 | east linton\n",
      "Processing Record 6 of Set 10 | teberda\n",
      "Processing Record 7 of Set 10 | karpogory\n",
      "Processing Record 8 of Set 10 | bonoua\n",
      "Processing Record 9 of Set 10 | luwuk\n",
      "Processing Record 10 of Set 10 | raduzhnyy\n",
      "Processing Record 11 of Set 10 | boueni\n",
      "Processing Record 12 of Set 10 | sawtell\n",
      "Processing Record 13 of Set 10 | sinnamary\n",
      "Processing Record 14 of Set 10 | monmouth\n",
      "Processing Record 15 of Set 10 | tuggurt\n",
      "City not found. Skipping...\n",
      "Processing Record 16 of Set 10 | treinta y tres\n",
      "Processing Record 17 of Set 10 | auki\n",
      "Processing Record 18 of Set 10 | provideniya\n",
      "Processing Record 19 of Set 10 | lata\n",
      "Processing Record 20 of Set 10 | portland\n",
      "Processing Record 21 of Set 10 | katangli\n",
      "Processing Record 22 of Set 10 | kilosa\n",
      "Processing Record 23 of Set 10 | bokspits\n",
      "City not found. Skipping...\n",
      "Processing Record 24 of Set 10 | tura\n",
      "Processing Record 25 of Set 10 | gainesville\n",
      "Processing Record 26 of Set 10 | loubomo\n",
      "Processing Record 27 of Set 10 | langsa\n",
      "Processing Record 28 of Set 10 | walvis bay\n",
      "Processing Record 29 of Set 10 | kikwit\n",
      "Processing Record 30 of Set 10 | tazovskiy\n",
      "Processing Record 31 of Set 10 | gusev\n",
      "Processing Record 32 of Set 10 | marcona\n",
      "City not found. Skipping...\n",
      "Processing Record 33 of Set 10 | poum\n",
      "Processing Record 34 of Set 10 | batagay-alyta\n",
      "Processing Record 35 of Set 10 | morros\n",
      "Processing Record 36 of Set 10 | nome\n",
      "Processing Record 37 of Set 10 | bafoulabe\n",
      "Processing Record 38 of Set 10 | anadyr\n",
      "Processing Record 39 of Set 10 | nguiu\n",
      "City not found. Skipping...\n",
      "Processing Record 40 of Set 10 | kralendijk\n",
      "Processing Record 41 of Set 10 | namatanai\n",
      "Processing Record 42 of Set 10 | kangaba\n",
      "Processing Record 43 of Set 10 | jiangyou\n",
      "Processing Record 44 of Set 10 | samarai\n",
      "Processing Record 45 of Set 10 | rocha\n",
      "Processing Record 46 of Set 10 | vikulovo\n",
      "Processing Record 47 of Set 10 | ozgon\n",
      "City not found. Skipping...\n",
      "Processing Record 48 of Set 10 | ilulissat\n",
      "Processing Record 49 of Set 10 | coquimbo\n",
      "Processing Record 0 of Set 11 | ulaanbaatar\n",
      "Processing Record 1 of Set 11 | keelung\n",
      "Processing Record 2 of Set 11 | lakes entrance\n",
      "Processing Record 3 of Set 11 | czluchow\n",
      "Processing Record 4 of Set 11 | tucuman\n",
      "Processing Record 5 of Set 11 | buala\n",
      "Processing Record 6 of Set 11 | porto velho\n",
      "Processing Record 7 of Set 11 | iberia\n",
      "Processing Record 8 of Set 11 | luderitz\n",
      "Processing Record 9 of Set 11 | armacao dos buzios\n",
      "City not found. Skipping...\n",
      "Processing Record 10 of Set 11 | vestmanna\n",
      "Processing Record 11 of Set 11 | seoul\n",
      "Processing Record 12 of Set 11 | nuuk\n",
      "Processing Record 13 of Set 11 | gallup\n",
      "Processing Record 14 of Set 11 | menongue\n",
      "Processing Record 15 of Set 11 | maragogi\n",
      "Processing Record 16 of Set 11 | nicoya\n",
      "Processing Record 17 of Set 11 | altoona\n",
      "Processing Record 18 of Set 11 | celestun\n",
      "Processing Record 19 of Set 11 | aswan\n",
      "Processing Record 20 of Set 11 | kalmunai\n",
      "Processing Record 21 of Set 11 | san onofre\n",
      "Processing Record 22 of Set 11 | kuna\n",
      "Processing Record 23 of Set 11 | aflu\n",
      "City not found. Skipping...\n",
      "Processing Record 24 of Set 11 | batemans bay\n",
      "Processing Record 25 of Set 11 | atikokan\n",
      "Processing Record 26 of Set 11 | mongu\n",
      "Processing Record 27 of Set 11 | boddam\n",
      "Processing Record 28 of Set 11 | aksu\n",
      "Processing Record 29 of Set 11 | hirara\n",
      "Processing Record 30 of Set 11 | norman\n",
      "Processing Record 31 of Set 11 | turukhansk\n",
      "Processing Record 32 of Set 11 | gamba\n",
      "Processing Record 33 of Set 11 | alyangula\n",
      "Processing Record 34 of Set 11 | bolungarvik\n",
      "City not found. Skipping...\n",
      "Processing Record 35 of Set 11 | santa maria\n",
      "Processing Record 36 of Set 11 | vestbygda\n",
      "City not found. Skipping...\n",
      "Processing Record 37 of Set 11 | la ronge\n",
      "Processing Record 38 of Set 11 | faya\n",
      "Processing Record 39 of Set 11 | borba\n",
      "Processing Record 40 of Set 11 | fortuna\n",
      "Processing Record 41 of Set 11 | sao jose da coroa grande\n",
      "Processing Record 42 of Set 11 | itoman\n",
      "Processing Record 43 of Set 11 | cap-aux-meules\n",
      "Processing Record 44 of Set 11 | saint-augustin\n",
      "Processing Record 45 of Set 11 | grand gaube\n",
      "Processing Record 46 of Set 11 | shugurovo\n",
      "Processing Record 47 of Set 11 | warqla\n",
      "City not found. Skipping...\n",
      "Processing Record 48 of Set 11 | kysyl-syr\n",
      "Processing Record 49 of Set 11 | belushya guba\n",
      "City not found. Skipping...\n",
      "Processing Record 0 of Set 12 | mount gambier\n",
      "Processing Record 1 of Set 12 | high prairie\n",
      "Processing Record 2 of Set 12 | tual\n",
      "Processing Record 3 of Set 12 | havre de grace\n"
     ]
    },
    {
     "name": "stdout",
     "output_type": "stream",
     "text": [
      "Processing Record 4 of Set 12 | chacabuco\n",
      "Processing Record 5 of Set 12 | karlstad\n",
      "Processing Record 6 of Set 12 | goiatuba\n",
      "Processing Record 7 of Set 12 | kirkenaer\n",
      "Processing Record 8 of Set 12 | prince rupert\n",
      "Processing Record 9 of Set 12 | mitu\n",
      "Processing Record 10 of Set 12 | cap malheureux\n",
      "Processing Record 11 of Set 12 | jalapa\n",
      "Processing Record 12 of Set 12 | dzhusaly\n",
      "City not found. Skipping...\n",
      "Processing Record 13 of Set 12 | middlebury\n",
      "Processing Record 14 of Set 12 | nha trang\n",
      "Processing Record 15 of Set 12 | matagami\n",
      "Processing Record 16 of Set 12 | rawannawi\n",
      "City not found. Skipping...\n",
      "Processing Record 17 of Set 12 | sakata\n",
      "Processing Record 18 of Set 12 | huron\n",
      "Processing Record 19 of Set 12 | paita\n",
      "Processing Record 20 of Set 12 | brae\n",
      "Processing Record 21 of Set 12 | babanusah\n",
      "City not found. Skipping...\n",
      "Processing Record 22 of Set 12 | okhotsk\n",
      "Processing Record 23 of Set 12 | geraldton\n",
      "Processing Record 24 of Set 12 | mackenzie\n",
      "Processing Record 25 of Set 12 | omboue\n",
      "Processing Record 26 of Set 12 | blackwater\n",
      "Processing Record 27 of Set 12 | taksimo\n",
      "Processing Record 28 of Set 12 | port augusta\n",
      "Processing Record 29 of Set 12 | the valley\n",
      "Processing Record 30 of Set 12 | amahai\n",
      "Processing Record 31 of Set 12 | banda aceh\n",
      "Processing Record 32 of Set 12 | keti bandar\n",
      "Processing Record 33 of Set 12 | aasiaat\n",
      "Processing Record 34 of Set 12 | santa cruz\n",
      "Processing Record 35 of Set 12 | qandala\n",
      "Processing Record 36 of Set 12 | calatayud\n",
      "Processing Record 37 of Set 12 | zhuzhou\n",
      "Processing Record 38 of Set 12 | pombia\n",
      "Processing Record 39 of Set 12 | yatou\n",
      "Processing Record 40 of Set 12 | muleba\n",
      "Processing Record 41 of Set 12 | bulungu\n",
      "Processing Record 42 of Set 12 | udachnyy\n",
      "Processing Record 43 of Set 12 | satitoa\n",
      "City not found. Skipping...\n",
      "Processing Record 44 of Set 12 | lokoja\n",
      "Processing Record 45 of Set 12 | san carlos\n",
      "Processing Record 46 of Set 12 | duverge\n",
      "Processing Record 47 of Set 12 | leiyang\n",
      "Processing Record 48 of Set 12 | wulanhaote\n",
      "City not found. Skipping...\n",
      "Processing Record 49 of Set 12 | talnakh\n",
      "Processing Record 0 of Set 13 | tessalit\n",
      "Processing Record 1 of Set 13 | sao joao batista\n",
      "Processing Record 2 of Set 13 | demba\n",
      "Processing Record 3 of Set 13 | saint anthony\n",
      "Processing Record 4 of Set 13 | blagoyevo\n",
      "Processing Record 5 of Set 13 | huambo\n",
      "Processing Record 6 of Set 13 | tongliao\n",
      "Processing Record 7 of Set 13 | noumea\n",
      "Processing Record 8 of Set 13 | paramirim\n",
      "-----------------------------\n",
      "Data Retrieval Complete\n",
      "-----------------------------\n"
     ]
    }
   ],
   "source": [
    "#CONCAT units and api key to url\n",
    "url = \"http://api.openweathermap.org/data/2.5/weather?units=Imperial&appid=\" + weather_api_key\n",
    "CityData = []\n",
    "RecordCount = 1\n",
    "SetCount = 1\n",
    "print(\"Beginning Data Retrieval\")\n",
    "print(\"-----------------------------\")\n",
    "# loop through all the cities in the list\n",
    "for i,city in enumerate(cities):\n",
    "    # group cities in sets of 50\n",
    "    if (i%50==0 and i>=50):\n",
    "        SetCount +=1\n",
    "        RecordCount = 0\n",
    "    CityUrl = url + \"&q=\" + city\n",
    "    # log the url record and set numbers\n",
    "    print(f\"Processing Record {RecordCount} of Set {SetCount} | {city}\")\n",
    "    # formatting\n",
    "    # increment record count by 1\n",
    "    RecordCount +=1\n",
    "    # run API calls\n",
    "    try:\n",
    "        CityWeather = requests.get(CityUrl).json()\n",
    "        # variable is going to have coordinates and data to select out\n",
    "        # temp, humidity, cloudiness\n",
    "\n",
    "        Lat = CityWeather[\"coord\"][\"lat\"]\n",
    "        Lng = CityWeather[\"coord\"][\"lon\"]\n",
    "        MaxTemp = CityWeather[\"main\"][\"temp_max\"]\n",
    "        Humidity = CityWeather[\"main\"][\"humidity\"]\n",
    "        Cloudiness = CityWeather[\"clouds\"][\"all\"]\n",
    "        Windiness = CityWeather[\"wind\"][\"speed\"]\n",
    "        Country = CityWeather[\"sys\"][\"country\"]\n",
    "        \n",
    "\n",
    "        #append the city information into city_data list\n",
    "        CityData.append({\"City\": city,\n",
    "                         \"Lat\": Lat,\n",
    "                         \"Lon\":Lng,\n",
    "                         \"Max Temp\":MaxTemp,\n",
    "                         \"Humidity\":Humidity,\n",
    "                         \"Cloudiness\":Cloudiness,\n",
    "                         \"Wind Speed\":Windiness,\n",
    "                         \"Country\":Country})\n",
    "\n",
    "    #if error, skip city\n",
    "    except KeyError:\n",
    "        print(\"City not found. Skipping...\")\n",
    "        pass\n",
    "\n",
    "#Indicate that Data Loading is complete\n",
    "print(\"-----------------------------\")\n",
    "print(\"Data Retrieval Complete\")\n",
    "print(\"-----------------------------\")"
   ]
  },
  {
   "cell_type": "markdown",
   "metadata": {},
   "source": [
    "### Convert Raw Data to DataFrame\n",
    "* Export the city data into a .csv.\n",
    "* Display the DataFrame"
   ]
  },
  {
   "cell_type": "code",
   "execution_count": 4,
   "metadata": {},
   "outputs": [
    {
     "data": {
      "text/plain": [
       "City          547\n",
       "Lat           547\n",
       "Lon           547\n",
       "Max Temp      547\n",
       "Humidity      547\n",
       "Cloudiness    547\n",
       "Wind Speed    547\n",
       "Country       547\n",
       "dtype: int64"
      ]
     },
     "execution_count": 4,
     "metadata": {},
     "output_type": "execute_result"
    }
   ],
   "source": [
    "DisplayCityData = pd.DataFrame(CityData)\n",
    "DisplayCityData.to_csv(output_data_file, index=False)\n",
    "DisplayCityData.count()"
   ]
  },
  {
   "cell_type": "code",
   "execution_count": 5,
   "metadata": {},
   "outputs": [
    {
     "data": {
      "text/html": [
       "<div>\n",
       "<style scoped>\n",
       "    .dataframe tbody tr th:only-of-type {\n",
       "        vertical-align: middle;\n",
       "    }\n",
       "\n",
       "    .dataframe tbody tr th {\n",
       "        vertical-align: top;\n",
       "    }\n",
       "\n",
       "    .dataframe thead th {\n",
       "        text-align: right;\n",
       "    }\n",
       "</style>\n",
       "<table border=\"1\" class=\"dataframe\">\n",
       "  <thead>\n",
       "    <tr style=\"text-align: right;\">\n",
       "      <th></th>\n",
       "      <th>City</th>\n",
       "      <th>Lat</th>\n",
       "      <th>Lon</th>\n",
       "      <th>Max Temp</th>\n",
       "      <th>Humidity</th>\n",
       "      <th>Cloudiness</th>\n",
       "      <th>Wind Speed</th>\n",
       "      <th>Country</th>\n",
       "    </tr>\n",
       "  </thead>\n",
       "  <tbody>\n",
       "    <tr>\n",
       "      <th>0</th>\n",
       "      <td>villa maria</td>\n",
       "      <td>-32.41</td>\n",
       "      <td>-63.24</td>\n",
       "      <td>46.00</td>\n",
       "      <td>44</td>\n",
       "      <td>0</td>\n",
       "      <td>4.00</td>\n",
       "      <td>AR</td>\n",
       "    </tr>\n",
       "    <tr>\n",
       "      <th>1</th>\n",
       "      <td>dourbali</td>\n",
       "      <td>11.81</td>\n",
       "      <td>15.86</td>\n",
       "      <td>73.15</td>\n",
       "      <td>92</td>\n",
       "      <td>99</td>\n",
       "      <td>6.78</td>\n",
       "      <td>TD</td>\n",
       "    </tr>\n",
       "    <tr>\n",
       "      <th>2</th>\n",
       "      <td>katsuura</td>\n",
       "      <td>35.13</td>\n",
       "      <td>140.30</td>\n",
       "      <td>97.00</td>\n",
       "      <td>66</td>\n",
       "      <td>20</td>\n",
       "      <td>8.05</td>\n",
       "      <td>JP</td>\n",
       "    </tr>\n",
       "    <tr>\n",
       "      <th>3</th>\n",
       "      <td>promissao</td>\n",
       "      <td>-21.54</td>\n",
       "      <td>-49.86</td>\n",
       "      <td>72.32</td>\n",
       "      <td>45</td>\n",
       "      <td>27</td>\n",
       "      <td>5.32</td>\n",
       "      <td>BR</td>\n",
       "    </tr>\n",
       "    <tr>\n",
       "      <th>4</th>\n",
       "      <td>bredasdorp</td>\n",
       "      <td>-34.53</td>\n",
       "      <td>20.04</td>\n",
       "      <td>46.40</td>\n",
       "      <td>87</td>\n",
       "      <td>0</td>\n",
       "      <td>9.17</td>\n",
       "      <td>ZA</td>\n",
       "    </tr>\n",
       "  </tbody>\n",
       "</table>\n",
       "</div>"
      ],
      "text/plain": [
       "          City    Lat     Lon  Max Temp  Humidity  Cloudiness  Wind Speed  \\\n",
       "0  villa maria -32.41  -63.24     46.00        44           0        4.00   \n",
       "1     dourbali  11.81   15.86     73.15        92          99        6.78   \n",
       "2     katsuura  35.13  140.30     97.00        66          20        8.05   \n",
       "3    promissao -21.54  -49.86     72.32        45          27        5.32   \n",
       "4   bredasdorp -34.53   20.04     46.40        87           0        9.17   \n",
       "\n",
       "  Country  \n",
       "0      AR  \n",
       "1      TD  \n",
       "2      JP  \n",
       "3      BR  \n",
       "4      ZA  "
      ]
     },
     "execution_count": 5,
     "metadata": {},
     "output_type": "execute_result"
    }
   ],
   "source": [
    "DisplayCityData.head()"
   ]
  },
  {
   "cell_type": "markdown",
   "metadata": {},
   "source": [
    "## Inspect the data and remove the cities where the humidity > 100%.\n",
    "----\n",
    "Skip this step if there are no cities that have humidity > 100%. "
   ]
  },
  {
   "cell_type": "code",
   "execution_count": 6,
   "metadata": {},
   "outputs": [
    {
     "data": {
      "text/html": [
       "<div>\n",
       "<style scoped>\n",
       "    .dataframe tbody tr th:only-of-type {\n",
       "        vertical-align: middle;\n",
       "    }\n",
       "\n",
       "    .dataframe tbody tr th {\n",
       "        vertical-align: top;\n",
       "    }\n",
       "\n",
       "    .dataframe thead th {\n",
       "        text-align: right;\n",
       "    }\n",
       "</style>\n",
       "<table border=\"1\" class=\"dataframe\">\n",
       "  <thead>\n",
       "    <tr style=\"text-align: right;\">\n",
       "      <th></th>\n",
       "      <th>Lat</th>\n",
       "      <th>Lon</th>\n",
       "      <th>Max Temp</th>\n",
       "      <th>Humidity</th>\n",
       "      <th>Cloudiness</th>\n",
       "      <th>Wind Speed</th>\n",
       "    </tr>\n",
       "  </thead>\n",
       "  <tbody>\n",
       "    <tr>\n",
       "      <th>count</th>\n",
       "      <td>547.000000</td>\n",
       "      <td>547.000000</td>\n",
       "      <td>547.000000</td>\n",
       "      <td>547.000000</td>\n",
       "      <td>547.000000</td>\n",
       "      <td>547.000000</td>\n",
       "    </tr>\n",
       "    <tr>\n",
       "      <th>mean</th>\n",
       "      <td>20.033985</td>\n",
       "      <td>18.457989</td>\n",
       "      <td>67.787770</td>\n",
       "      <td>71.817185</td>\n",
       "      <td>46.435101</td>\n",
       "      <td>6.974442</td>\n",
       "    </tr>\n",
       "    <tr>\n",
       "      <th>std</th>\n",
       "      <td>33.994434</td>\n",
       "      <td>90.633428</td>\n",
       "      <td>14.138327</td>\n",
       "      <td>18.968536</td>\n",
       "      <td>38.990476</td>\n",
       "      <td>4.628854</td>\n",
       "    </tr>\n",
       "    <tr>\n",
       "      <th>min</th>\n",
       "      <td>-54.800000</td>\n",
       "      <td>-179.170000</td>\n",
       "      <td>28.400000</td>\n",
       "      <td>3.000000</td>\n",
       "      <td>0.000000</td>\n",
       "      <td>0.380000</td>\n",
       "    </tr>\n",
       "    <tr>\n",
       "      <th>25%</th>\n",
       "      <td>-9.040000</td>\n",
       "      <td>-63.115000</td>\n",
       "      <td>56.110000</td>\n",
       "      <td>61.000000</td>\n",
       "      <td>1.000000</td>\n",
       "      <td>3.360000</td>\n",
       "    </tr>\n",
       "    <tr>\n",
       "      <th>50%</th>\n",
       "      <td>24.470000</td>\n",
       "      <td>21.290000</td>\n",
       "      <td>69.330000</td>\n",
       "      <td>75.000000</td>\n",
       "      <td>40.000000</td>\n",
       "      <td>5.820000</td>\n",
       "    </tr>\n",
       "    <tr>\n",
       "      <th>75%</th>\n",
       "      <td>50.505000</td>\n",
       "      <td>100.345000</td>\n",
       "      <td>79.475000</td>\n",
       "      <td>86.000000</td>\n",
       "      <td>88.500000</td>\n",
       "      <td>9.375000</td>\n",
       "    </tr>\n",
       "    <tr>\n",
       "      <th>max</th>\n",
       "      <td>78.220000</td>\n",
       "      <td>179.320000</td>\n",
       "      <td>105.800000</td>\n",
       "      <td>100.000000</td>\n",
       "      <td>100.000000</td>\n",
       "      <td>26.690000</td>\n",
       "    </tr>\n",
       "  </tbody>\n",
       "</table>\n",
       "</div>"
      ],
      "text/plain": [
       "              Lat         Lon    Max Temp    Humidity  Cloudiness  Wind Speed\n",
       "count  547.000000  547.000000  547.000000  547.000000  547.000000  547.000000\n",
       "mean    20.033985   18.457989   67.787770   71.817185   46.435101    6.974442\n",
       "std     33.994434   90.633428   14.138327   18.968536   38.990476    4.628854\n",
       "min    -54.800000 -179.170000   28.400000    3.000000    0.000000    0.380000\n",
       "25%     -9.040000  -63.115000   56.110000   61.000000    1.000000    3.360000\n",
       "50%     24.470000   21.290000   69.330000   75.000000   40.000000    5.820000\n",
       "75%     50.505000  100.345000   79.475000   86.000000   88.500000    9.375000\n",
       "max     78.220000  179.320000  105.800000  100.000000  100.000000   26.690000"
      ]
     },
     "execution_count": 6,
     "metadata": {},
     "output_type": "execute_result"
    }
   ],
   "source": [
    "DisplayCityData.describe()"
   ]
  },
  {
   "cell_type": "code",
   "execution_count": 7,
   "metadata": {},
   "outputs": [],
   "source": [
    "#  Get the indices of cities that have humidity over 100%.\n"
   ]
  },
  {
   "cell_type": "code",
   "execution_count": 8,
   "metadata": {},
   "outputs": [],
   "source": [
    "# Make a new DataFrame equal to the city data to drop all humidity outliers by index.\n",
    "# Passing \"inplace=False\" will make a copy of the city_data DataFrame, which we call \"clean_city_data\".\n"
   ]
  },
  {
   "cell_type": "code",
   "execution_count": 9,
   "metadata": {},
   "outputs": [],
   "source": [
    "# Extract relevant fields from the data frame\n",
    "\n",
    "\n",
    "# Export the City_Data into a csv\n"
   ]
  },
  {
   "cell_type": "markdown",
   "metadata": {},
   "source": [
    "## Plotting the Data\n",
    "* Use proper labeling of the plots using plot titles (including date of analysis) and axes labels.\n",
    "* Save the plotted figures as .pngs."
   ]
  },
  {
   "cell_type": "markdown",
   "metadata": {},
   "source": [
    "## Latitude vs. Temperature Plot"
   ]
  },
  {
   "cell_type": "code",
   "execution_count": 25,
   "metadata": {
    "scrolled": true
   },
   "outputs": [
    {
     "data": {
      "image/png": "[encoded data removed]",
      "text/plain": [
       "<Figure size 432x288 with 1 Axes>"
      ]
     },
     "metadata": {
      "needs_background": "light"
     },
     "output_type": "display_data"
    },
    {
     "data": {
      "text/plain": [
       "<Figure size 432x288 with 0 Axes>"
      ]
     },
     "metadata": {},
     "output_type": "display_data"
    }
   ],
   "source": [
    "Latitude = DisplayCityData[\"Lat\"]\n",
    "Temperature = DisplayCityData[\"Max Temp\"]\n",
    "plt.title(\"City Latitude vs. Max Temperature(8/11/20)\")\n",
    "plt.xlabel(\"Latitude\")\n",
    "plt.ylabel(\"Max Temperature (F)\")\n",
    "\n",
    "plt.scatter(Latitude, Temperature, marker=\"o\", color=\"blue\")\n",
    "plt.show()\n",
    "plt.savefig('output_data/Temperature.png')\n",
    "# This plot shows that as you reach the equator, it does get hotter."
   ]
  },
  {
   "cell_type": "markdown",
   "metadata": {},
   "source": [
    "## Latitude vs. Humidity Plot"
   ]
  },
  {
   "cell_type": "code",
   "execution_count": 26,
   "metadata": {},
   "outputs": [
    {
     "data": {
      "image/png": "[encoded data removed]",
      "text/plain": [
       "<Figure size 432x288 with 1 Axes>"
      ]
     },
     "metadata": {
      "needs_background": "light"
     },
     "output_type": "display_data"
    },
    {
     "data": {
      "text/plain": [
       "<Figure size 432x288 with 0 Axes>"
      ]
     },
     "metadata": {},
     "output_type": "display_data"
    }
   ],
   "source": [
    "Latitude = DisplayCityData[\"Lat\"]\n",
    "Humidity = DisplayCityData[\"Humidity\"]\n",
    "plt.title(\"City Latitude vs. Humidity(8/11/20)\")\n",
    "plt.xlabel(\"Latitude\")\n",
    "plt.ylabel(\"Humidity (%)\")\n",
    "\n",
    "plt.scatter(Latitude, Humidity, marker=\"o\", color=\"blue\")\n",
    "plt.show()\n",
    "plt.savefig('output_data/Humidity.png')\n",
    "# There seems to be no correlation between latitude and humidity"
   ]
  },
  {
   "cell_type": "markdown",
   "metadata": {},
   "source": [
    "## Latitude vs. Cloudiness Plot"
   ]
  },
  {
   "cell_type": "code",
   "execution_count": 27,
   "metadata": {},
   "outputs": [
    {
     "data": {
      "image/png": "[encoded data removed]",
      "text/plain": [
       "<Figure size 432x288 with 1 Axes>"
      ]
     },
     "metadata": {
      "needs_background": "light"
     },
     "output_type": "display_data"
    },
    {
     "data": {
      "text/plain": [
       "<Figure size 432x288 with 0 Axes>"
      ]
     },
     "metadata": {},
     "output_type": "display_data"
    }
   ],
   "source": [
    "Latitude = DisplayCityData[\"Lat\"]\n",
    "Cloudiness = DisplayCityData[\"Cloudiness\"]\n",
    "plt.title(\"City Latitude vs. Cloudiness(8/11/20)\")\n",
    "plt.xlabel(\"Latitude\")\n",
    "plt.ylabel(\"Cloudiness (%)\")\n",
    "\n",
    "plt.scatter(Latitude, Humidity, marker=\"o\", color=\"blue\")\n",
    "plt.show()\n",
    "plt.savefig('output_data/Cloudiness.png')\n",
    "# # There seems to be no correlation between latitude and cloudiness"
   ]
  },
  {
   "cell_type": "markdown",
   "metadata": {},
   "source": [
    "## Latitude vs. Wind Speed Plot"
   ]
  },
  {
   "cell_type": "code",
   "execution_count": 13,
   "metadata": {},
   "outputs": [
    {
     "data": {
      "image/png": "[encoded data removed]",
      "text/plain": [
       "<Figure size 432x288 with 1 Axes>"
      ]
     },
     "metadata": {
      "needs_background": "light"
     },
     "output_type": "display_data"
    },
    {
     "data": {
      "text/plain": [
       "<Figure size 432x288 with 0 Axes>"
      ]
     },
     "metadata": {},
     "output_type": "display_data"
    }
   ],
   "source": [
    "Latitude = DisplayCityData[\"Lat\"]\n",
    "WindSpeed = DisplayCityData[\"Wind Speed\"]\n",
    "plt.title(\"City Latitude vs. Wind Speed(8/11/20)\")\n",
    "plt.xlabel(\"Latitude\")\n",
    "plt.ylabel(\"Wind Speed (mph)\")\n",
    "\n",
    "plt.scatter(Latitude, WindSpeed, marker=\"o\", color=\"blue\")\n",
    "plt.show()\n",
    "plt.savefig('output_data/WindSpeed.png')\n",
    "# There seems to be no correlation between latitude and wind speed"
   ]
  },
  {
   "cell_type": "markdown",
   "metadata": {},
   "source": [
    "## Linear Regression"
   ]
  },
  {
   "cell_type": "code",
   "execution_count": 14,
   "metadata": {},
   "outputs": [],
   "source": [
    "# OPTIONAL: Create a function to create Linear Regression plots"
   ]
  },
  {
   "cell_type": "code",
   "execution_count": 15,
   "metadata": {},
   "outputs": [
    {
     "data": {
      "text/html": [
       "<div>\n",
       "<style scoped>\n",
       "    .dataframe tbody tr th:only-of-type {\n",
       "        vertical-align: middle;\n",
       "    }\n",
       "\n",
       "    .dataframe tbody tr th {\n",
       "        vertical-align: top;\n",
       "    }\n",
       "\n",
       "    .dataframe thead th {\n",
       "        text-align: right;\n",
       "    }\n",
       "</style>\n",
       "<table border=\"1\" class=\"dataframe\">\n",
       "  <thead>\n",
       "    <tr style=\"text-align: right;\">\n",
       "      <th></th>\n",
       "      <th>City</th>\n",
       "      <th>Lat</th>\n",
       "      <th>Lon</th>\n",
       "      <th>Max Temp</th>\n",
       "      <th>Humidity</th>\n",
       "      <th>Cloudiness</th>\n",
       "      <th>Wind Speed</th>\n",
       "      <th>Country</th>\n",
       "      <th>Hemisphere</th>\n",
       "    </tr>\n",
       "  </thead>\n",
       "  <tbody>\n",
       "    <tr>\n",
       "      <th>0</th>\n",
       "      <td>villa maria</td>\n",
       "      <td>-32.41</td>\n",
       "      <td>-63.24</td>\n",
       "      <td>46.00</td>\n",
       "      <td>44</td>\n",
       "      <td>0</td>\n",
       "      <td>4.00</td>\n",
       "      <td>AR</td>\n",
       "      <td>Southern</td>\n",
       "    </tr>\n",
       "    <tr>\n",
       "      <th>3</th>\n",
       "      <td>promissao</td>\n",
       "      <td>-21.54</td>\n",
       "      <td>-49.86</td>\n",
       "      <td>72.32</td>\n",
       "      <td>45</td>\n",
       "      <td>27</td>\n",
       "      <td>5.32</td>\n",
       "      <td>BR</td>\n",
       "      <td>Southern</td>\n",
       "    </tr>\n",
       "    <tr>\n",
       "      <th>4</th>\n",
       "      <td>bredasdorp</td>\n",
       "      <td>-34.53</td>\n",
       "      <td>20.04</td>\n",
       "      <td>46.40</td>\n",
       "      <td>87</td>\n",
       "      <td>0</td>\n",
       "      <td>9.17</td>\n",
       "      <td>ZA</td>\n",
       "      <td>Southern</td>\n",
       "    </tr>\n",
       "    <tr>\n",
       "      <th>5</th>\n",
       "      <td>benguela</td>\n",
       "      <td>-12.58</td>\n",
       "      <td>13.41</td>\n",
       "      <td>66.38</td>\n",
       "      <td>89</td>\n",
       "      <td>0</td>\n",
       "      <td>1.30</td>\n",
       "      <td>AO</td>\n",
       "      <td>Southern</td>\n",
       "    </tr>\n",
       "    <tr>\n",
       "      <th>6</th>\n",
       "      <td>puerto ayora</td>\n",
       "      <td>-0.74</td>\n",
       "      <td>-90.35</td>\n",
       "      <td>66.99</td>\n",
       "      <td>98</td>\n",
       "      <td>97</td>\n",
       "      <td>1.99</td>\n",
       "      <td>EC</td>\n",
       "      <td>Southern</td>\n",
       "    </tr>\n",
       "    <tr>\n",
       "      <th>...</th>\n",
       "      <td>...</td>\n",
       "      <td>...</td>\n",
       "      <td>...</td>\n",
       "      <td>...</td>\n",
       "      <td>...</td>\n",
       "      <td>...</td>\n",
       "      <td>...</td>\n",
       "      <td>...</td>\n",
       "      <td>...</td>\n",
       "    </tr>\n",
       "    <tr>\n",
       "      <th>539</th>\n",
       "      <td>sao joao batista</td>\n",
       "      <td>-27.28</td>\n",
       "      <td>-48.85</td>\n",
       "      <td>68.00</td>\n",
       "      <td>97</td>\n",
       "      <td>95</td>\n",
       "      <td>0.72</td>\n",
       "      <td>BR</td>\n",
       "      <td>Southern</td>\n",
       "    </tr>\n",
       "    <tr>\n",
       "      <th>540</th>\n",
       "      <td>demba</td>\n",
       "      <td>-5.51</td>\n",
       "      <td>22.27</td>\n",
       "      <td>69.76</td>\n",
       "      <td>67</td>\n",
       "      <td>74</td>\n",
       "      <td>2.35</td>\n",
       "      <td>CD</td>\n",
       "      <td>Southern</td>\n",
       "    </tr>\n",
       "    <tr>\n",
       "      <th>543</th>\n",
       "      <td>huambo</td>\n",
       "      <td>-12.78</td>\n",
       "      <td>15.74</td>\n",
       "      <td>51.39</td>\n",
       "      <td>43</td>\n",
       "      <td>0</td>\n",
       "      <td>1.66</td>\n",
       "      <td>AO</td>\n",
       "      <td>Southern</td>\n",
       "    </tr>\n",
       "    <tr>\n",
       "      <th>545</th>\n",
       "      <td>noumea</td>\n",
       "      <td>-22.28</td>\n",
       "      <td>166.46</td>\n",
       "      <td>75.20</td>\n",
       "      <td>50</td>\n",
       "      <td>8</td>\n",
       "      <td>16.11</td>\n",
       "      <td>NC</td>\n",
       "      <td>Southern</td>\n",
       "    </tr>\n",
       "    <tr>\n",
       "      <th>546</th>\n",
       "      <td>paramirim</td>\n",
       "      <td>-13.44</td>\n",
       "      <td>-42.24</td>\n",
       "      <td>67.46</td>\n",
       "      <td>77</td>\n",
       "      <td>61</td>\n",
       "      <td>5.41</td>\n",
       "      <td>BR</td>\n",
       "      <td>Southern</td>\n",
       "    </tr>\n",
       "  </tbody>\n",
       "</table>\n",
       "<p>186 rows × 9 columns</p>\n",
       "</div>"
      ],
      "text/plain": [
       "                 City    Lat     Lon  Max Temp  Humidity  Cloudiness  \\\n",
       "0         villa maria -32.41  -63.24     46.00        44           0   \n",
       "3           promissao -21.54  -49.86     72.32        45          27   \n",
       "4          bredasdorp -34.53   20.04     46.40        87           0   \n",
       "5            benguela -12.58   13.41     66.38        89           0   \n",
       "6        puerto ayora  -0.74  -90.35     66.99        98          97   \n",
       "..                ...    ...     ...       ...       ...         ...   \n",
       "539  sao joao batista -27.28  -48.85     68.00        97          95   \n",
       "540             demba  -5.51   22.27     69.76        67          74   \n",
       "543            huambo -12.78   15.74     51.39        43           0   \n",
       "545            noumea -22.28  166.46     75.20        50           8   \n",
       "546         paramirim -13.44  -42.24     67.46        77          61   \n",
       "\n",
       "     Wind Speed Country Hemisphere  \n",
       "0          4.00      AR   Southern  \n",
       "3          5.32      BR   Southern  \n",
       "4          9.17      ZA   Southern  \n",
       "5          1.30      AO   Southern  \n",
       "6          1.99      EC   Southern  \n",
       "..          ...     ...        ...  \n",
       "539        0.72      BR   Southern  \n",
       "540        2.35      CD   Southern  \n",
       "543        1.66      AO   Southern  \n",
       "545       16.11      NC   Southern  \n",
       "546        5.41      BR   Southern  \n",
       "\n",
       "[186 rows x 9 columns]"
      ]
     },
     "execution_count": 15,
     "metadata": {},
     "output_type": "execute_result"
    }
   ],
   "source": [
    "# Create new column: Northern or Southern\n",
    "DisplayCityData[\"Hemisphere\"] = np.where(DisplayCityData[\"Lat\"]>=0, \"Northern\", \"Southern\")\n",
    "# Create Northern and Southern Hemisphere DataFrames\n",
    "HemisphereGroups = DisplayCityData.groupby(DisplayCityData.Hemisphere)\n",
    "NorthernDF = HemisphereGroups.get_group(\"Northern\")\n",
    "SouthernDF = HemisphereGroups.get_group(\"Southern\")\n",
    "SouthernDF"
   ]
  },
  {
   "cell_type": "markdown",
   "metadata": {},
   "source": [
    "####  Northern Hemisphere - Max Temp vs. Latitude Linear Regression"
   ]
  },
  {
   "cell_type": "code",
   "execution_count": 16,
   "metadata": {},
   "outputs": [
    {
     "name": "stdout",
     "output_type": "stream",
     "text": [
      "The r-squared is: 0.5907243938523761\n"
     ]
    },
    {
     "data": {
      "image/png": "[encoded data removed]",
      "text/plain": [
       "<Figure size 432x288 with 1 Axes>"
      ]
     },
     "metadata": {
      "needs_background": "light"
     },
     "output_type": "display_data"
    }
   ],
   "source": [
    "Latitude = NorthernDF[\"Lat\"]\n",
    "Temperature = NorthernDF[\"Max Temp\"]\n",
    "(slope, intercept, rvalue, pvalue, stderr) = linregress(Latitude,Temperature)\n",
    "regress_values = Latitude * slope + intercept\n",
    "line_eq = \"y = \" + str(round(slope,2)) + \"x + \" + str(round(intercept,2))\n",
    "plt.scatter(Latitude, Temperature, marker=\"o\", color=\"blue\")\n",
    "plt.plot(Latitude,regress_values,\"r-\")\n",
    "plt.annotate(line_eq,(6,10),fontsize=15,color=\"red\")\n",
    "plt.xlabel('Latitude')\n",
    "plt.ylabel('Max Temperature (F)')\n",
    "print(f\"The r-squared is: {rvalue**2}\")\n",
    "plt.show()"
   ]
  },
  {
   "cell_type": "markdown",
   "metadata": {},
   "source": [
    "####  Southern Hemisphere - Max Temp vs. Latitude Linear Regression"
   ]
  },
  {
   "cell_type": "code",
   "execution_count": 17,
   "metadata": {},
   "outputs": [
    {
     "name": "stdout",
     "output_type": "stream",
     "text": [
      "The r-squared is: 0.5095926794491368\n"
     ]
    },
    {
     "data": {
      "image/png": "[encoded data removed]",
      "text/plain": [
       "<Figure size 432x288 with 1 Axes>"
      ]
     },
     "metadata": {
      "needs_background": "light"
     },
     "output_type": "display_data"
    }
   ],
   "source": [
    "Latitude = SouthernDF[\"Lat\"]\n",
    "Temperature = SouthernDF[\"Max Temp\"]\n",
    "(slope, intercept, rvalue, pvalue, stderr) = linregress(Latitude,Temperature)\n",
    "regress_values = Latitude * slope + intercept\n",
    "line_eq = \"y = \" + str(round(slope,2)) + \"x + \" + str(round(intercept,2))\n",
    "plt.scatter(Latitude, Temperature, marker=\"o\", color=\"blue\")\n",
    "plt.plot(Latitude,regress_values,\"r-\")\n",
    "plt.annotate(line_eq,(6,10),fontsize=15,color=\"red\")\n",
    "plt.xlabel('Latitude')\n",
    "plt.ylabel('Max Temperature (F)')\n",
    "print(f\"The r-squared is: {rvalue**2}\")\n",
    "plt.show()"
   ]
  },
  {
   "cell_type": "markdown",
   "metadata": {},
   "source": [
    "####  Northern Hemisphere - Humidity (%) vs. Latitude Linear Regression"
   ]
  },
  {
   "cell_type": "code",
   "execution_count": 18,
   "metadata": {},
   "outputs": [
    {
     "name": "stdout",
     "output_type": "stream",
     "text": [
      "The r-squared is: 3.3075801088246795e-05\n"
     ]
    },
    {
     "data": {
      "image/png": "[encoded data removed]",
      "text/plain": [
       "<Figure size 432x288 with 1 Axes>"
      ]
     },
     "metadata": {
      "needs_background": "light"
     },
     "output_type": "display_data"
    }
   ],
   "source": [
    "Latitude = NorthernDF[\"Lat\"]\n",
    "Humidity = NorthernDF[\"Humidity\"]\n",
    "(slope, intercept, rvalue, pvalue, stderr) = linregress(Latitude,Humidity)\n",
    "regress_values = Latitude * slope + intercept\n",
    "line_eq = \"y = \" + str(round(slope,2)) + \"x + \" + str(round(intercept,2))\n",
    "plt.scatter(Latitude, Humidity, marker=\"o\", color=\"blue\")\n",
    "plt.plot(Latitude,regress_values,\"r-\")\n",
    "plt.annotate(line_eq,(6,10),fontsize=15,color=\"red\")\n",
    "plt.xlabel('Latitude')\n",
    "plt.ylabel('Humidity (%)')\n",
    "print(f\"The r-squared is: {rvalue**2}\")\n",
    "plt.show()"
   ]
  },
  {
   "cell_type": "markdown",
   "metadata": {},
   "source": [
    "####  Southern Hemisphere - Humidity (%) vs. Latitude Linear Regression"
   ]
  },
  {
   "cell_type": "code",
   "execution_count": 19,
   "metadata": {},
   "outputs": [
    {
     "name": "stdout",
     "output_type": "stream",
     "text": [
      "The r-squared is: 0.0011494621216512257\n"
     ]
    },
    {
     "data": {
      "image/png": "[encoded data removed]",
      "text/plain": [
       "<Figure size 432x288 with 1 Axes>"
      ]
     },
     "metadata": {
      "needs_background": "light"
     },
     "output_type": "display_data"
    }
   ],
   "source": [
    "Latitude = SouthernDF[\"Lat\"]\n",
    "Humidity = SouthernDF[\"Humidity\"]\n",
    "(slope, intercept, rvalue, pvalue, stderr) = linregress(Latitude,Humidity)\n",
    "regress_values = Latitude * slope + intercept\n",
    "line_eq = \"y = \" + str(round(slope,2)) + \"x + \" + str(round(intercept,2))\n",
    "plt.scatter(Latitude, Humidity, marker=\"o\", color=\"blue\")\n",
    "plt.plot(Latitude,regress_values,\"r-\")\n",
    "plt.annotate(line_eq,(6,10),fontsize=15,color=\"red\")\n",
    "plt.xlabel('Latitude')\n",
    "plt.ylabel('Humidity (%)')\n",
    "print(f\"The r-squared is: {rvalue**2}\")\n",
    "plt.show()"
   ]
  },
  {
   "cell_type": "markdown",
   "metadata": {},
   "source": [
    "####  Northern Hemisphere - Cloudiness (%) vs. Latitude Linear Regression"
   ]
  },
  {
   "cell_type": "code",
   "execution_count": 20,
   "metadata": {
    "scrolled": true
   },
   "outputs": [
    {
     "name": "stdout",
     "output_type": "stream",
     "text": [
      "The r-squared is: 0.008357833462854649\n"
     ]
    },
    {
     "data": {
      "image/png": "[encoded data removed]",
      "text/plain": [
       "<Figure size 432x288 with 1 Axes>"
      ]
     },
     "metadata": {
      "needs_background": "light"
     },
     "output_type": "display_data"
    }
   ],
   "source": [
    "Latitude = NorthernDF[\"Lat\"]\n",
    "Cloudiness = NorthernDF[\"Cloudiness\"]\n",
    "(slope, intercept, rvalue, pvalue, stderr) = linregress(Latitude,Cloudiness)\n",
    "regress_values = Latitude * slope + intercept\n",
    "line_eq = \"y = \" + str(round(slope,2)) + \"x + \" + str(round(intercept,2))\n",
    "plt.scatter(Latitude, Cloudiness, marker=\"o\", color=\"blue\")\n",
    "plt.plot(Latitude,regress_values,\"r-\")\n",
    "plt.annotate(line_eq,(6,10),fontsize=15,color=\"red\")\n",
    "plt.xlabel('Latitude')\n",
    "plt.ylabel('Cloudiness (%)')\n",
    "print(f\"The r-squared is: {rvalue**2}\")\n",
    "plt.show()"
   ]
  },
  {
   "cell_type": "markdown",
   "metadata": {},
   "source": [
    "####  Southern Hemisphere - Cloudiness (%) vs. Latitude Linear Regression"
   ]
  },
  {
   "cell_type": "code",
   "execution_count": 21,
   "metadata": {},
   "outputs": [
    {
     "name": "stdout",
     "output_type": "stream",
     "text": [
      "The r-squared is: 0.047055357986185285\n"
     ]
    },
    {
     "data": {
      "image/png": "[encoded data removed]",
      "text/plain": [
       "<Figure size 432x288 with 1 Axes>"
      ]
     },
     "metadata": {
      "needs_background": "light"
     },
     "output_type": "display_data"
    }
   ],
   "source": [
    "Latitude = SouthernDF[\"Lat\"]\n",
    "Cloudiness = SouthernDF[\"Cloudiness\"]\n",
    "(slope, intercept, rvalue, pvalue, stderr) = linregress(Latitude,Cloudiness)\n",
    "regress_values = Latitude * slope + intercept\n",
    "line_eq = \"y = \" + str(round(slope,2)) + \"x + \" + str(round(intercept,2))\n",
    "plt.scatter(Latitude, Cloudiness, marker=\"o\", color=\"blue\")\n",
    "plt.plot(Latitude,regress_values,\"r-\")\n",
    "plt.annotate(line_eq,(6,10),fontsize=15,color=\"red\")\n",
    "plt.xlabel('Latitude')\n",
    "plt.ylabel('Cloudiness (%)')\n",
    "print(f\"The r-squared is: {rvalue**2}\")\n",
    "plt.show()"
   ]
  },
  {
   "cell_type": "markdown",
   "metadata": {},
   "source": [
    "####  Northern Hemisphere - Wind Speed (mph) vs. Latitude Linear Regression"
   ]
  },
  {
   "cell_type": "code",
   "execution_count": 22,
   "metadata": {},
   "outputs": [
    {
     "name": "stdout",
     "output_type": "stream",
     "text": [
      "The r-squared is: 0.007264841846018817\n"
     ]
    },
    {
     "data": {
      "image/png": "[encoded data removed]",
      "text/plain": [
       "<Figure size 432x288 with 1 Axes>"
      ]
     },
     "metadata": {
      "needs_background": "light"
     },
     "output_type": "display_data"
    }
   ],
   "source": [
    "Latitude = NorthernDF[\"Lat\"]\n",
    "WindSpeed = NorthernDF[\"Wind Speed\"]\n",
    "(slope, intercept, rvalue, pvalue, stderr) = linregress(Latitude,WindSpeed)\n",
    "regress_values = Latitude * slope + intercept\n",
    "line_eq = \"y = \" + str(round(slope,2)) + \"x + \" + str(round(intercept,2))\n",
    "plt.scatter(Latitude, WindSpeed, marker=\"o\", color=\"blue\")\n",
    "plt.plot(Latitude,regress_values,\"r-\")\n",
    "plt.annotate(line_eq,(6,10),fontsize=15,color=\"red\")\n",
    "plt.xlabel('Latitude')\n",
    "plt.ylabel('Cloudiness (%)')\n",
    "print(f\"The r-squared is: {rvalue**2}\")\n",
    "plt.show()"
   ]
  },
  {
   "cell_type": "markdown",
   "metadata": {},
   "source": [
    "####  Southern Hemisphere - Wind Speed (mph) vs. Latitude Linear Regression"
   ]
  },
  {
   "cell_type": "code",
   "execution_count": 23,
   "metadata": {},
   "outputs": [
    {
     "name": "stdout",
     "output_type": "stream",
     "text": [
      "The r-squared is: 0.0005729835182178511\n"
     ]
    },
    {
     "data": {
      "image/png": "[encoded data removed]",
      "text/plain": [
       "<Figure size 432x288 with 1 Axes>"
      ]
     },
     "metadata": {
      "needs_background": "light"
     },
     "output_type": "display_data"
    }
   ],
   "source": [
    "Latitude = SouthernDF[\"Lat\"]\n",
    "WindSpeed = SouthernDF[\"Wind Speed\"]\n",
    "(slope, intercept, rvalue, pvalue, stderr) = linregress(Latitude,WindSpeed)\n",
    "regress_values = Latitude * slope + intercept\n",
    "line_eq = \"y = \" + str(round(slope,2)) + \"x + \" + str(round(intercept,2))\n",
    "plt.scatter(Latitude, WindSpeed, marker=\"o\", color=\"blue\")\n",
    "plt.plot(Latitude,regress_values,\"r-\")\n",
    "plt.annotate(line_eq,(6,10),fontsize=15,color=\"red\")\n",
    "plt.xlabel('Latitude')\n",
    "plt.ylabel('Cloudiness (%)')\n",
    "print(f\"The r-squared is: {rvalue**2}\")\n",
    "plt.show()"
   ]
  },
  {
   "cell_type": "code",
   "execution_count": null,
   "metadata": {},
   "outputs": [],
   "source": []
  }
 ],
 "metadata": {
  "anaconda-cloud": {},
  "kernel_info": {
   "name": "python3"
  },
  "kernelspec": {
   "display_name": "Python 3",
   "language": "python",
   "name": "python3"
  },
  "language_info": {
   "codemirror_mode": {
    "name": "ipython",
    "version": 3
   },
   "file_extension": ".py",
   "mimetype": "text/x-python",
   "name": "python",
   "nbconvert_exporter": "python",
   "pygments_lexer": "ipython3",
   "version": "3.7.6"
  },
  "latex_envs": {
   "LaTeX_envs_menu_present": true,
   "autoclose": false,
   "autocomplete": true,
   "bibliofile": "biblio.bib",
   "cite_by": "apalike",
   "current_citInitial": 1,
   "eqLabelWithNumbers": true,
   "eqNumInitial": 1,
   "hotkeys": {
    "equation": "Ctrl-E",
    "itemize": "Ctrl-I"
   },
   "labels_anchors": false,
   "latex_user_defs": false,
   "report_style_numbering": false,
   "user_envs_cfg": false
  },
  "nteract": {
   "version": "0.12.3"
  }
 },
 "nbformat": 4,
 "nbformat_minor": 2
}
